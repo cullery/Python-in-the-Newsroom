{
 "cells": [
  {
   "cell_type": "code",
   "execution_count": 5,
   "metadata": {},
   "outputs": [],
   "source": [
    "import pandas as pd"
   ]
  },
  {
   "cell_type": "code",
   "execution_count": 7,
   "metadata": {},
   "outputs": [],
   "source": [
    "df1 = pd.read_csv(\"Municipal_Data_American_Community_Survey_2015_Community_and_Economic_Development.csv\")"
   ]
  },
  {
   "cell_type": "code",
   "execution_count": 9,
   "metadata": {},
   "outputs": [
    {
     "name": "stdout",
     "output_type": "stream",
     "text": [
      "<class 'pandas.core.frame.DataFrame'>\n",
      "RangeIndex: 2561 entries, 0 to 2560\n",
      "Data columns (total 14 columns):\n",
      "DCED Code 2012                                                         2561 non-null int64\n",
      "Census Code                                                            2561 non-null int64\n",
      "Municipality Type                                                      2561 non-null object\n",
      "County Name                                                            2561 non-null object\n",
      "Municipal Name                                                         2561 non-null object\n",
      "Poplation, 2015                                                        2561 non-null int64\n",
      "% Population 65+ Years Old, 2011-2015                                  2561 non-null float64\n",
      "% Housing Units Vacant, 2011-2015                                      2561 non-null float64\n",
      "% Homeowners (Owner-Occupied Housing Units), 2011-2015                 2561 non-null float64\n",
      "Median Housing Values, 2011-2015                                       2551 non-null float64\n",
      "% Persons 25+ Years Old with Bachelor's Degree or Higher. 2011-2015    2561 non-null float64\n",
      "Median Household Income, 2011-2015                                     2553 non-null float64\n",
      "Unemployment Rate, 2011-2015                                           2561 non-null float64\n",
      "% Families Below Poverty Level, 2011-2015                              2559 non-null float64\n",
      "dtypes: float64(8), int64(3), object(3)\n",
      "memory usage: 280.2+ KB\n"
     ]
    }
   ],
   "source": [
    "df1.info()"
   ]
  },
  {
   "cell_type": "code",
   "execution_count": 10,
   "metadata": {},
   "outputs": [],
   "source": [
    "df1.columns=df1.columns.str.replace(\" \",\"_\")"
   ]
  },
  {
   "cell_type": "code",
   "execution_count": 11,
   "metadata": {},
   "outputs": [
    {
     "name": "stdout",
     "output_type": "stream",
     "text": [
      "<class 'pandas.core.frame.DataFrame'>\n",
      "RangeIndex: 2561 entries, 0 to 2560\n",
      "Data columns (total 14 columns):\n",
      "DCED_Code_2012                                                         2561 non-null int64\n",
      "Census_Code                                                            2561 non-null int64\n",
      "Municipality_Type                                                      2561 non-null object\n",
      "County_Name                                                            2561 non-null object\n",
      "Municipal_Name                                                         2561 non-null object\n",
      "Poplation,_2015                                                        2561 non-null int64\n",
      "%_Population_65+_Years_Old,_2011-2015                                  2561 non-null float64\n",
      "%_Housing_Units_Vacant,_2011-2015                                      2561 non-null float64\n",
      "%_Homeowners_(Owner-Occupied_Housing_Units),_2011-2015                 2561 non-null float64\n",
      "Median_Housing_Values,_2011-2015                                       2551 non-null float64\n",
      "%_Persons_25+_Years_Old_with_Bachelor's_Degree_or_Higher._2011-2015    2561 non-null float64\n",
      "Median_Household_Income,_2011-2015                                     2553 non-null float64\n",
      "Unemployment_Rate,_2011-2015                                           2561 non-null float64\n",
      "%_Families_Below_Poverty_Level,_2011-2015                              2559 non-null float64\n",
      "dtypes: float64(8), int64(3), object(3)\n",
      "memory usage: 280.2+ KB\n"
     ]
    }
   ],
   "source": [
    "df1.info()"
   ]
  },
  {
   "cell_type": "code",
   "execution_count": 13,
   "metadata": {},
   "outputs": [
    {
     "data": {
      "text/html": [
       "<div>\n",
       "<style scoped>\n",
       "    .dataframe tbody tr th:only-of-type {\n",
       "        vertical-align: middle;\n",
       "    }\n",
       "\n",
       "    .dataframe tbody tr th {\n",
       "        vertical-align: top;\n",
       "    }\n",
       "\n",
       "    .dataframe thead th {\n",
       "        text-align: right;\n",
       "    }\n",
       "</style>\n",
       "<table border=\"1\" class=\"dataframe\">\n",
       "  <thead>\n",
       "    <tr style=\"text-align: right;\">\n",
       "      <th></th>\n",
       "      <th>DCED_Code_2012</th>\n",
       "      <th>Census_Code</th>\n",
       "      <th>Municipality_Type</th>\n",
       "      <th>County_Name</th>\n",
       "      <th>Municipal_Name</th>\n",
       "      <th>Poplation,_2015</th>\n",
       "      <th>%_Population_65+_Years_Old,_2011-2015</th>\n",
       "      <th>%_Housing_Units_Vacant,_2011-2015</th>\n",
       "      <th>%_Homeowners_(Owner-Occupied_Housing_Units),_2011-2015</th>\n",
       "      <th>Median_Housing_Values,_2011-2015</th>\n",
       "      <th>%_Persons_25+_Years_Old_with_Bachelor's_Degree_or_Higher._2011-2015</th>\n",
       "      <th>Median_Household_Income,_2011-2015</th>\n",
       "      <th>Unemployment_Rate,_2011-2015</th>\n",
       "      <th>%_Families_Below_Poverty_Level,_2011-2015</th>\n",
       "    </tr>\n",
       "  </thead>\n",
       "  <tbody>\n",
       "    <tr>\n",
       "      <th>0</th>\n",
       "      <td>10033</td>\n",
       "      <td>4200100116</td>\n",
       "      <td>Boro</td>\n",
       "      <td>Adams</td>\n",
       "      <td>Abbottstown Borough</td>\n",
       "      <td>943</td>\n",
       "      <td>10.7</td>\n",
       "      <td>4.9</td>\n",
       "      <td>78.1</td>\n",
       "      <td>146100.0</td>\n",
       "      <td>8.2</td>\n",
       "      <td>56641.0</td>\n",
       "      <td>10.9</td>\n",
       "      <td>4.2</td>\n",
       "    </tr>\n",
       "    <tr>\n",
       "      <th>1</th>\n",
       "      <td>10063</td>\n",
       "      <td>4200102928</td>\n",
       "      <td>Boro</td>\n",
       "      <td>Adams</td>\n",
       "      <td>Arendtsville Borough</td>\n",
       "      <td>910</td>\n",
       "      <td>7.8</td>\n",
       "      <td>8.5</td>\n",
       "      <td>61.8</td>\n",
       "      <td>166700.0</td>\n",
       "      <td>17.1</td>\n",
       "      <td>51700.0</td>\n",
       "      <td>3.5</td>\n",
       "      <td>17.6</td>\n",
       "    </tr>\n",
       "    <tr>\n",
       "      <th>2</th>\n",
       "      <td>10093</td>\n",
       "      <td>4200105536</td>\n",
       "      <td>Boro</td>\n",
       "      <td>Adams</td>\n",
       "      <td>Bendersville Borough</td>\n",
       "      <td>738</td>\n",
       "      <td>10.8</td>\n",
       "      <td>7.6</td>\n",
       "      <td>72.7</td>\n",
       "      <td>166200.0</td>\n",
       "      <td>13.7</td>\n",
       "      <td>57292.0</td>\n",
       "      <td>9.9</td>\n",
       "      <td>13.0</td>\n",
       "    </tr>\n",
       "    <tr>\n",
       "      <th>3</th>\n",
       "      <td>10125</td>\n",
       "      <td>4200105880</td>\n",
       "      <td>2nd Twp</td>\n",
       "      <td>Adams</td>\n",
       "      <td>Berwick Township</td>\n",
       "      <td>2229</td>\n",
       "      <td>20.4</td>\n",
       "      <td>5.7</td>\n",
       "      <td>84.0</td>\n",
       "      <td>154000.0</td>\n",
       "      <td>14.4</td>\n",
       "      <td>59286.0</td>\n",
       "      <td>3.1</td>\n",
       "      <td>9.8</td>\n",
       "    </tr>\n",
       "    <tr>\n",
       "      <th>4</th>\n",
       "      <td>10153</td>\n",
       "      <td>4200106296</td>\n",
       "      <td>Boro</td>\n",
       "      <td>Adams</td>\n",
       "      <td>Biglerville Borough</td>\n",
       "      <td>1195</td>\n",
       "      <td>17.6</td>\n",
       "      <td>3.2</td>\n",
       "      <td>57.5</td>\n",
       "      <td>173000.0</td>\n",
       "      <td>20.8</td>\n",
       "      <td>46923.0</td>\n",
       "      <td>4.5</td>\n",
       "      <td>11.2</td>\n",
       "    </tr>\n",
       "  </tbody>\n",
       "</table>\n",
       "</div>"
      ],
      "text/plain": [
       "   DCED_Code_2012  Census_Code Municipality_Type County_Name  \\\n",
       "0           10033   4200100116              Boro       Adams   \n",
       "1           10063   4200102928              Boro       Adams   \n",
       "2           10093   4200105536              Boro       Adams   \n",
       "3           10125   4200105880           2nd Twp       Adams   \n",
       "4           10153   4200106296              Boro       Adams   \n",
       "\n",
       "         Municipal_Name  Poplation,_2015  \\\n",
       "0   Abbottstown Borough              943   \n",
       "1  Arendtsville Borough              910   \n",
       "2  Bendersville Borough              738   \n",
       "3      Berwick Township             2229   \n",
       "4   Biglerville Borough             1195   \n",
       "\n",
       "   %_Population_65+_Years_Old,_2011-2015  %_Housing_Units_Vacant,_2011-2015  \\\n",
       "0                                   10.7                                4.9   \n",
       "1                                    7.8                                8.5   \n",
       "2                                   10.8                                7.6   \n",
       "3                                   20.4                                5.7   \n",
       "4                                   17.6                                3.2   \n",
       "\n",
       "   %_Homeowners_(Owner-Occupied_Housing_Units),_2011-2015  \\\n",
       "0                                               78.1        \n",
       "1                                               61.8        \n",
       "2                                               72.7        \n",
       "3                                               84.0        \n",
       "4                                               57.5        \n",
       "\n",
       "   Median_Housing_Values,_2011-2015  \\\n",
       "0                          146100.0   \n",
       "1                          166700.0   \n",
       "2                          166200.0   \n",
       "3                          154000.0   \n",
       "4                          173000.0   \n",
       "\n",
       "   %_Persons_25+_Years_Old_with_Bachelor's_Degree_or_Higher._2011-2015  \\\n",
       "0                                                8.2                     \n",
       "1                                               17.1                     \n",
       "2                                               13.7                     \n",
       "3                                               14.4                     \n",
       "4                                               20.8                     \n",
       "\n",
       "   Median_Household_Income,_2011-2015  Unemployment_Rate,_2011-2015  \\\n",
       "0                             56641.0                          10.9   \n",
       "1                             51700.0                           3.5   \n",
       "2                             57292.0                           9.9   \n",
       "3                             59286.0                           3.1   \n",
       "4                             46923.0                           4.5   \n",
       "\n",
       "   %_Families_Below_Poverty_Level,_2011-2015  \n",
       "0                                        4.2  \n",
       "1                                       17.6  \n",
       "2                                       13.0  \n",
       "3                                        9.8  \n",
       "4                                       11.2  "
      ]
     },
     "execution_count": 13,
     "metadata": {},
     "output_type": "execute_result"
    }
   ],
   "source": [
    "df1.head()"
   ]
  },
  {
   "cell_type": "code",
   "execution_count": 14,
   "metadata": {},
   "outputs": [],
   "source": [
    "df1.columns=df1.columns.str.replace(\"%_\",\"\").str.replace(\",\",'').str.replace(\"(\",\"\").str.replace(\")\",'').str.replace(\"+\",'').str.replace(\".\",'').str.replace(\"'\",'').str.replace(\"-\",'_to_').str.lower()"
   ]
  },
  {
   "cell_type": "code",
   "execution_count": 18,
   "metadata": {},
   "outputs": [],
   "source": [
    "df2=df1.groupby('county_name').poplation_2015.sum().to_frame()"
   ]
  },
  {
   "cell_type": "code",
   "execution_count": 23,
   "metadata": {
    "scrolled": true
   },
   "outputs": [],
   "source": [
    "df2.reset_index(inplace=True)"
   ]
  },
  {
   "cell_type": "code",
   "execution_count": 25,
   "metadata": {
    "scrolled": true
   },
   "outputs": [],
   "source": [
    "df2.to_csv(\"df2.csv\",index=None)"
   ]
  },
  {
   "cell_type": "code",
   "execution_count": 26,
   "metadata": {},
   "outputs": [],
   "source": [
    "df3=pd.read_csv(\"df2.csv\")"
   ]
  },
  {
   "cell_type": "code",
   "execution_count": 28,
   "metadata": {
    "scrolled": true
   },
   "outputs": [
    {
     "data": {
      "text/plain": [
       "87895.0"
      ]
     },
     "execution_count": 28,
     "metadata": {},
     "output_type": "execute_result"
    }
   ],
   "source": [
    "df3.poplation_2015.median()"
   ]
  },
  {
   "cell_type": "code",
   "execution_count": 30,
   "metadata": {},
   "outputs": [
    {
     "data": {
      "text/plain": [
       "count    6.700000e+01\n",
       "mean     1.907397e+05\n",
       "std      2.721498e+05\n",
       "min      4.869000e+03\n",
       "25%      4.383250e+04\n",
       "50%      8.789500e+04\n",
       "75%      2.111115e+05\n",
       "max      1.555072e+06\n",
       "Name: poplation_2015, dtype: float64"
      ]
     },
     "execution_count": 30,
     "metadata": {},
     "output_type": "execute_result"
    }
   ],
   "source": [
    "df3.poplation_2015.describe()"
   ]
  },
  {
   "cell_type": "code",
   "execution_count": 34,
   "metadata": {},
   "outputs": [
    {
     "data": {
      "text/plain": [
       "190739.68656716417"
      ]
     },
     "execution_count": 34,
     "metadata": {},
     "output_type": "execute_result"
    }
   ],
   "source": [
    "df3.poplation_2015.mean()"
   ]
  },
  {
   "cell_type": "code",
   "execution_count": 35,
   "metadata": {},
   "outputs": [
    {
     "data": {
      "text/plain": [
       "67"
      ]
     },
     "execution_count": 35,
     "metadata": {},
     "output_type": "execute_result"
    }
   ],
   "source": [
    "df3.poplation_2015.count()"
   ]
  },
  {
   "cell_type": "code",
   "execution_count": 36,
   "metadata": {},
   "outputs": [
    {
     "data": {
      "text/plain": [
       "272149.8329043858"
      ]
     },
     "execution_count": 36,
     "metadata": {},
     "output_type": "execute_result"
    }
   ],
   "source": [
    "df3.poplation_2015.std()"
   ]
  },
  {
   "cell_type": "code",
   "execution_count": null,
   "metadata": {},
   "outputs": [],
   "source": []
  }
 ],
 "metadata": {
  "kernelspec": {
   "display_name": "Python 3",
   "language": "python",
   "name": "python3"
  },
  "language_info": {
   "codemirror_mode": {
    "name": "ipython",
    "version": 3
   },
   "file_extension": ".py",
   "mimetype": "text/x-python",
   "name": "python",
   "nbconvert_exporter": "python",
   "pygments_lexer": "ipython3",
   "version": "3.6.7"
  }
 },
 "nbformat": 4,
 "nbformat_minor": 2
}
